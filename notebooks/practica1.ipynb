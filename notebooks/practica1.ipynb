{
  "nbformat": 4,
  "nbformat_minor": 0,
  "metadata": {
    "colab": {
      "provenance": []
    },
    "kernelspec": {
      "name": "python3",
      "display_name": "Python 3"
    },
    "language_info": {
      "name": "python"
    }
  },
  "cells": [
    {
      "cell_type": "code",
      "source": [
        "import re\n",
        "\n",
        "file1 = open (\"../data/mbox-short.txt\", \"r\")\n",
        "file2 = open (\"../data/mbox.txt\", \"r\")\n",
        "\n",
        "texto1= file1.readlines()\n",
        "texto2= file2.readlines()\n",
        "\n",
        "acumulado1= 0\n",
        "cantidad1= 0\n",
        "\n",
        "for lineas in texto1:\n",
        "  numeros = re.findall('New Revision: (\\d+)', lineas)\n",
        "  for numero in numeros:\n",
        "    acumulado1 += int(numero)\n",
        "    if numero:\n",
        "      cantidad1 += 1\n",
        "\n",
        "acumulado2= 0\n",
        "cantidad2= 0\n",
        "\n",
        "for lineas in texto2:\n",
        "  numeros = re.findall('New Revision: (\\d+)', lineas)\n",
        "  for numero in numeros:\n",
        "    acumulado2 += int(numero)\n",
        "    if numero:\n",
        "      cantidad2 += 1\n",
        "\n",
        "\n",
        "promedio1 = acumulado1 // cantidad1\n",
        "print (promedio1)\n",
        "\n",
        "promedio2 = acumulado2 // cantidad2\n",
        "print (promedio2)"
      ],
      "metadata": {
        "colab": {
          "base_uri": "https://localhost:8080/"
        },
        "id": "sUgKDcY3dNZC",
        "outputId": "5ff51a96-d678-42ba-9520-26367ad1797f"
      },
      "execution_count": 17,
      "outputs": [
        {
          "output_type": "stream",
          "name": "stdout",
          "text": [
            "39756\n",
            "38549\n"
          ]
        }
      ]
    }
  ]
}